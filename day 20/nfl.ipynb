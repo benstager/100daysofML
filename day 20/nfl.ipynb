{
 "cells": [
  {
   "cell_type": "markdown",
   "metadata": {},
   "source": [
    "# --------------------------------------------------------------\n",
    "# Day 20 NFL.py 🏈: Webscraping for college data\n",
    "# --------------------------------------------------------------"
   ]
  },
  {
   "cell_type": "markdown",
   "metadata": {},
   "source": [
    "# Necessary data cleaning"
   ]
  },
  {
   "cell_type": "code",
   "execution_count": null,
   "metadata": {},
   "outputs": [],
   "source": [
    "import nfl_data_py as nfl\n",
    "\n",
    "import pandas as pd\n",
    "import numpy as np\n",
    "import requests\n",
    "from bs4 import BeautifulSoup"
   ]
  },
  {
   "cell_type": "code",
   "execution_count": 18,
   "metadata": {},
   "outputs": [
    {
     "name": "stdout",
     "output_type": "stream",
     "text": [
      "Downcasting floats.\n"
     ]
    }
   ],
   "source": [
    "import nfl_data_py as nfl\n",
    "\n",
    "import pandas as pd\n",
    "import numpy as np\n",
    "\n",
    "years = range(2010, 2023)\n",
    "data = nfl.import_weekly_data(years)\n",
    "draft = nfl.import_draft_picks(years)\n",
    "df = data[(data['season'] >= 2010) & (data['position'] == 'QB')]\n",
    "\n",
    "rounds = [draft[draft['pfr_player_name'] == plyr]['round'] for plyr in df['player_display_name']]\n",
    "\n",
    "df_draft = draft[(draft['round'] == 1) & (draft['position'] == 'QB')][['pfr_player_name', 'season', 'round', 'pick', 'team']]\n",
    "df_draft.loc[df_draft['team'] == 'STL', 'team'] = 'LA'\n",
    "\n",
    "labels = [df[df['player_display_name'] == plyr] for plyr in df_draft['pfr_player_name']]\n",
    "\n",
    "players_by_season = df.groupby(['player_display_name', 'season']).agg({'recent_team':lambda x: x.iloc[0]}).reset_index()\n",
    "\n",
    "labels = {}\n",
    "for plyr in df_draft['pfr_player_name']:\n",
    "    draft_team = np.squeeze(df_draft[df_draft['pfr_player_name'] == plyr]['team'])\n",
    "    draft_year = np.squeeze(df_draft[df_draft['pfr_player_name'] ==plyr]['season'].values[0])\n",
    "    labels[plyr] = players_by_season[(players_by_season['player_display_name'] == plyr) & (players_by_season['recent_team'] == draft_team)].shape[0] >= 5"
   ]
  },
  {
   "cell_type": "markdown",
   "metadata": {},
   "source": [
    "# Data scraping"
   ]
  },
  {
   "cell_type": "code",
   "execution_count": 56,
   "metadata": {},
   "outputs": [],
   "source": [
    "test_df = pd.DataFrame({\n",
    "    'player':list(labels.keys()),\n",
    "    'successful':list(labels.values())\n",
    "})"
   ]
  },
  {
   "cell_type": "code",
   "execution_count": 57,
   "metadata": {},
   "outputs": [
    {
     "data": {
      "text/plain": [
       "array(['Sam Bradford', 'Tim Tebow', 'Cam Newton', 'Jake Locker',\n",
       "       'Blaine Gabbert', 'Christian Ponder', 'Andrew Luck',\n",
       "       'Robert Griffin III', 'Ryan Tannehill', 'Brandon Weeden',\n",
       "       'EJ Manuel', 'Blake Bortles', 'Johnny Manziel',\n",
       "       'Teddy Bridgewater', 'Jameis Winston', 'Marcus Mariota',\n",
       "       'Jared Goff', 'Carson Wentz', 'Paxton Lynch', 'Kenny Pickett',\n",
       "       'Trevor Lawrence', 'Zach Wilson', 'Trey Lance', 'Justin Fields',\n",
       "       'Mac Jones', 'Joe Burrow', 'Tua Tagovailoa', 'Justin Herbert',\n",
       "       'Jordan Love', 'Kyler Murray', 'Daniel Jones', 'Dwayne Haskins',\n",
       "       'Baker Mayfield', 'Sam Darnold', 'Josh Allen', 'Josh Rosen',\n",
       "       'Lamar Jackson', 'Mitchell Trubisky', 'Patrick Mahomes',\n",
       "       'Deshaun Watson'], dtype=object)"
      ]
     },
     "execution_count": 57,
     "metadata": {},
     "output_type": "execute_result"
    }
   ],
   "source": [
    "test_df['player'].values"
   ]
  },
  {
   "cell_type": "code",
   "execution_count": 58,
   "metadata": {},
   "outputs": [],
   "source": [
    "test_df.loc[test_df['player'] == 'Ryan Tannehill', 'successful'] = True\n",
    "test_df.loc[test_df['player'] == 'Jared Goff', 'successful'] = True\n",
    "test_df.loc[test_df['player'] == 'Trevor Lawrence', 'successful'] = True\n",
    "test_df.loc[test_df['player'] == 'Joe Burrow', 'successful'] = True\n",
    "test_df.loc[test_df['player'] == 'Tua Tagovailoa', 'successful'] = True\n",
    "test_df.loc[test_df['player'] == 'Justin Herbert', 'successful'] = True\n",
    "test_df.loc[test_df['player'] == 'Jordan Love', 'successful'] = True\n",
    "test_df.loc[test_df['player'] == 'Kyler Murray', 'successful'] = True\n",
    "test_df.loc[test_df['player'] == 'Baker Mayfield', 'successful'] = True\n",
    "test_df.loc[test_df['player'] == 'Josh Allen', 'successful'] = True\n",
    "test_df.loc[test_df['player'] == 'Lamar Jackson', 'successful'] = True\n",
    "test_df.loc[test_df['player'] == 'Patrick Mahomes', 'successful'] = True\n",
    "test_df.loc[test_df['player'] == 'Deshaun Watson', 'successful'] = True"
   ]
  },
  {
   "cell_type": "code",
   "execution_count": 48,
   "metadata": {},
   "outputs": [
    {
     "name": "stdout",
     "output_type": "stream",
     "text": [
      "(18, 2)\n",
      "(22, 2)\n"
     ]
    }
   ],
   "source": [
    "print(test_df[test_df['successful'] == True].shape)\n",
    "print(test_df[test_df['successful'] == False].shape)"
   ]
  },
  {
   "cell_type": "code",
   "execution_count": 62,
   "metadata": {},
   "outputs": [],
   "source": [
    "df_draft['player'] = df_draft['pfr_player_name']\n",
    "df_draft = df_draft.drop('pfr_player_name', axis=1)\n",
    "df = pd.merge(test_df, df_draft,on='player', how='inner')"
   ]
  },
  {
   "cell_type": "code",
   "execution_count": null,
   "metadata": {},
   "outputs": [],
   "source": [
    "Player()"
   ]
  },
  {
   "cell_type": "code",
   "execution_count": 91,
   "metadata": {},
   "outputs": [
    {
     "name": "stdout",
     "output_type": "stream",
     "text": [
      "None\n",
      "None\n",
      "None\n"
     ]
    }
   ],
   "source": [
    "from sportsipy.ncaaf.roster import Player\n",
    "\n",
    "blough = Player('david-blough-1')  # Currently pulling career stats\n",
    "print(blough.passing_yards)  # Prints Blough's CAREER passing yards total\n",
    "# Prints Blough's passing yards total only for the 2017 season\n",
    "print(blough('2017').passing_yards)\n",
    "# Prints Blough's passing touchdowns for the 2017 season only\n",
    "print(blough.passing_touchdowns)"
   ]
  },
  {
   "cell_type": "code",
   "execution_count": 80,
   "metadata": {},
   "outputs": [
    {
     "ename": "AttributeError",
     "evalue": "'AbstractPlayer' object has no attribute '_index'",
     "output_type": "error",
     "traceback": [
      "\u001b[0;31m---------------------------------------------------------------------------\u001b[0m",
      "\u001b[0;31mAttributeError\u001b[0m                            Traceback (most recent call last)",
      "Cell \u001b[0;32mIn[80], line 1\u001b[0m\n\u001b[0;32m----> 1\u001b[0m \u001b[43mAbstractPlayer\u001b[49m\u001b[43m(\u001b[49m\u001b[38;5;124;43m'\u001b[39;49m\u001b[38;5;124;43mjared-goff-1\u001b[39;49m\u001b[38;5;124;43m'\u001b[39;49m\u001b[43m,\u001b[49m\u001b[43m \u001b[49m\u001b[38;5;124;43m'\u001b[39;49m\u001b[38;5;124;43mJared Goff\u001b[39;49m\u001b[38;5;124;43m'\u001b[39;49m\u001b[43m,\u001b[49m\u001b[43m \u001b[49m\u001b[38;5;124;43m'\u001b[39;49m\u001b[38;5;124;43mhttps://www.sports-reference.com/cfb/sdf/jared-goff-1.html\u001b[39;49m\u001b[38;5;124;43m'\u001b[39;49m\u001b[43m)\u001b[49m\u001b[38;5;241;43m.\u001b[39;49m\u001b[43madjusted_yards_per_attempt\u001b[49m()\n",
      "File \u001b[0;32m/Library/Frameworks/Python.framework/Versions/3.11/lib/python3.11/site-packages/sportsipy/ncaaf/player.py:29\u001b[0m, in \u001b[0;36m_float_property_decorator.<locals>.wrapper\u001b[0;34m(*args)\u001b[0m\n\u001b[1;32m     26\u001b[0m \u001b[38;5;129m@property\u001b[39m\n\u001b[1;32m     27\u001b[0m \u001b[38;5;129m@wraps\u001b[39m(func)\n\u001b[1;32m     28\u001b[0m \u001b[38;5;28;01mdef\u001b[39;00m \u001b[38;5;21mwrapper\u001b[39m(\u001b[38;5;241m*\u001b[39margs):\n\u001b[0;32m---> 29\u001b[0m     index \u001b[38;5;241m=\u001b[39m \u001b[43margs\u001b[49m\u001b[43m[\u001b[49m\u001b[38;5;241;43m0\u001b[39;49m\u001b[43m]\u001b[49m\u001b[38;5;241;43m.\u001b[39;49m\u001b[43m_index\u001b[49m\n\u001b[1;32m     30\u001b[0m     prop \u001b[38;5;241m=\u001b[39m func(\u001b[38;5;241m*\u001b[39margs)\n\u001b[1;32m     31\u001b[0m     \u001b[38;5;28;01mtry\u001b[39;00m:\n",
      "\u001b[0;31mAttributeError\u001b[0m: 'AbstractPlayer' object has no attribute '_index'"
     ]
    }
   ],
   "source": [
    "AbstractPlayer('jared-goff-1', 'Jared Goff', 'https://www.sports-reference.com/cfb/sdf/jared-goff-1.html').adjusted_yards_per_attempt()"
   ]
  },
  {
   "cell_type": "code",
   "execution_count": 68,
   "metadata": {},
   "outputs": [
    {
     "data": {
      "text/html": [
       "<div>\n",
       "<style scoped>\n",
       "    .dataframe tbody tr th:only-of-type {\n",
       "        vertical-align: middle;\n",
       "    }\n",
       "\n",
       "    .dataframe tbody tr th {\n",
       "        vertical-align: top;\n",
       "    }\n",
       "\n",
       "    .dataframe thead th {\n",
       "        text-align: right;\n",
       "    }\n",
       "</style>\n",
       "<table border=\"1\" class=\"dataframe\">\n",
       "  <thead>\n",
       "    <tr style=\"text-align: right;\">\n",
       "      <th></th>\n",
       "      <th>player_display_name</th>\n",
       "      <th>season</th>\n",
       "      <th>recent_team</th>\n",
       "    </tr>\n",
       "  </thead>\n",
       "  <tbody>\n",
       "    <tr>\n",
       "      <th>0</th>\n",
       "      <td>A.J. Feeley</td>\n",
       "      <td>2011</td>\n",
       "      <td>LA</td>\n",
       "    </tr>\n",
       "    <tr>\n",
       "      <th>1</th>\n",
       "      <td>AJ McCarron</td>\n",
       "      <td>2015</td>\n",
       "      <td>CIN</td>\n",
       "    </tr>\n",
       "    <tr>\n",
       "      <th>2</th>\n",
       "      <td>AJ McCarron</td>\n",
       "      <td>2017</td>\n",
       "      <td>CIN</td>\n",
       "    </tr>\n",
       "    <tr>\n",
       "      <th>3</th>\n",
       "      <td>AJ McCarron</td>\n",
       "      <td>2018</td>\n",
       "      <td>LV</td>\n",
       "    </tr>\n",
       "    <tr>\n",
       "      <th>4</th>\n",
       "      <td>AJ McCarron</td>\n",
       "      <td>2019</td>\n",
       "      <td>HOU</td>\n",
       "    </tr>\n",
       "    <tr>\n",
       "      <th>...</th>\n",
       "      <td>...</td>\n",
       "      <td>...</td>\n",
       "      <td>...</td>\n",
       "    </tr>\n",
       "    <tr>\n",
       "      <th>974</th>\n",
       "      <td>Will Grier</td>\n",
       "      <td>2019</td>\n",
       "      <td>CAR</td>\n",
       "    </tr>\n",
       "    <tr>\n",
       "      <th>975</th>\n",
       "      <td>Zach Mettenberger</td>\n",
       "      <td>2014</td>\n",
       "      <td>TEN</td>\n",
       "    </tr>\n",
       "    <tr>\n",
       "      <th>976</th>\n",
       "      <td>Zach Mettenberger</td>\n",
       "      <td>2015</td>\n",
       "      <td>TEN</td>\n",
       "    </tr>\n",
       "    <tr>\n",
       "      <th>977</th>\n",
       "      <td>Zach Wilson</td>\n",
       "      <td>2021</td>\n",
       "      <td>NYJ</td>\n",
       "    </tr>\n",
       "    <tr>\n",
       "      <th>978</th>\n",
       "      <td>Zach Wilson</td>\n",
       "      <td>2022</td>\n",
       "      <td>NYJ</td>\n",
       "    </tr>\n",
       "  </tbody>\n",
       "</table>\n",
       "<p>979 rows × 3 columns</p>\n",
       "</div>"
      ],
      "text/plain": [
       "    player_display_name  season recent_team\n",
       "0           A.J. Feeley    2011          LA\n",
       "1           AJ McCarron    2015         CIN\n",
       "2           AJ McCarron    2017         CIN\n",
       "3           AJ McCarron    2018          LV\n",
       "4           AJ McCarron    2019         HOU\n",
       "..                  ...     ...         ...\n",
       "974          Will Grier    2019         CAR\n",
       "975   Zach Mettenberger    2014         TEN\n",
       "976   Zach Mettenberger    2015         TEN\n",
       "977         Zach Wilson    2021         NYJ\n",
       "978         Zach Wilson    2022         NYJ\n",
       "\n",
       "[979 rows x 3 columns]"
      ]
     },
     "execution_count": 68,
     "metadata": {},
     "output_type": "execute_result"
    }
   ],
   "source": [
    "players_by_season"
   ]
  },
  {
   "cell_type": "code",
   "execution_count": 238,
   "metadata": {},
   "outputs": [],
   "source": [
    "import requests\n",
    "from bs4 import BeautifulSoup"
   ]
  },
  {
   "cell_type": "code",
   "execution_count": 291,
   "metadata": {},
   "outputs": [],
   "source": [
    "def extract_passing_table(player_name):\n",
    "\n",
    "    first_name = player_name.split(' ')[0].lower()\n",
    "    last_name = player_name.split(' ')[1].lower()\n",
    "    player_url = f'https://www.sports-reference.com/cfb/players/{first_name}-{last_name}-1.html'\n",
    "    html_content = requests.get(player_url).text\n",
    "    \n",
    "    if len(player_name.split(' ')) > 2:\n",
    "        first_name = player_name.split(' ')[0].lower()\n",
    "        last_name = player_name.split(' ')[1].lower()\n",
    "        suffix = player_name.split(' ')[2].lower()\n",
    "        player_url = f'https://www.sports-reference.com/cfb/players/{first_name}-{last_name}-{suffix}-1.html'\n",
    "        html_content = requests.get(player_url).text\n",
    "    \n",
    "    soup = BeautifulSoup(html_content, 'html.parser')\n",
    "    table = soup.find('table', {'id': 'passing_standard'})\n",
    "    \n",
    "    if not table:\n",
    "        print(\"Passing stats table not found\")\n",
    "        return None\n",
    "\n",
    "    baseline_headers = []\n",
    "    headers = [th.getText() for th in table.find_all('th')]\n",
    "    rows = []\n",
    "    \n",
    "    for tr in table.find_all('tr')[1:]:\n",
    "        cells = [td.getText() for td in tr.find_all('td')]\n",
    "        if cells: \n",
    "            rows.append(cells)\n",
    "\n",
    "    column_names = [\n",
    "    'G',        \n",
    "    'Cmp',      \n",
    "    'Att',      \n",
    "    'Cmp%',     \n",
    "    'Yds',      \n",
    "    'TD',       \n",
    "    'TD%',      \n",
    "    'Int',      \n",
    "    'Int%',     \n",
    "    'Y/A',      \n",
    "    'AY/A',     \n",
    "    'Y/C',      \n",
    "    'Y/G',      \n",
    "    'Rate',     \n",
    "    'name'\n",
    "    ]\n",
    "    \n",
    "    totals = rows[len(rows)-1]\n",
    "    totals = [stat for stat in totals if stat.strip()]\n",
    "    totals.append(player_name)\n",
    "\n",
    "    if len(totals) == len(column_names):\n",
    "        final = pd.DataFrame({name: [value] for name, value in zip(column_names, totals)})\n",
    "    else:\n",
    "        print(\"Error: Number of stats does not match number of column names.\")\n",
    "\n",
    "    return final"
   ]
  },
  {
   "cell_type": "code",
   "execution_count": 358,
   "metadata": {},
   "outputs": [
    {
     "name": "stdout",
     "output_type": "stream",
     "text": [
      "Passing stats table not found\n"
     ]
    }
   ],
   "source": [
    "x = extract_passing_table('Cam Newton')"
   ]
  },
  {
   "cell_type": "code",
   "execution_count": 253,
   "metadata": {},
   "outputs": [],
   "source": [
    "lens = []\n",
    "for name in df['player']:\n",
    "    lens.append(len(name.split(' ')))"
   ]
  },
  {
   "cell_type": "code",
   "execution_count": 255,
   "metadata": {},
   "outputs": [
    {
     "name": "stderr",
     "output_type": "stream",
     "text": [
      "/var/folders/k_/y5wzmsx1483f9z9t9tjtdj1m0000gn/T/ipykernel_61123/3900589874.py:1: FutureWarning: pandas.value_counts is deprecated and will be removed in a future version. Use pd.Series(obj).value_counts() instead.\n",
      "  pd.value_counts(lens)\n",
      "/var/folders/k_/y5wzmsx1483f9z9t9tjtdj1m0000gn/T/ipykernel_61123/3900589874.py:1: FutureWarning: value_counts with argument that is not not a Series, Index, ExtensionArray, or np.ndarray is deprecated and will raise in a future version.\n",
      "  pd.value_counts(lens)\n"
     ]
    },
    {
     "data": {
      "text/plain": [
       "2    39\n",
       "3     1\n",
       "Name: count, dtype: int64"
      ]
     },
     "execution_count": 255,
     "metadata": {},
     "output_type": "execute_result"
    }
   ],
   "source": [
    "pd.value_counts(lens)"
   ]
  },
  {
   "cell_type": "code",
   "execution_count": 248,
   "metadata": {},
   "outputs": [
    {
     "data": {
      "text/plain": [
       "'iii'"
      ]
     },
     "execution_count": 248,
     "metadata": {},
     "output_type": "execute_result"
    }
   ],
   "source": [
    "'Robert Griffin III'.split(' ')[2].lower()"
   ]
  },
  {
   "cell_type": "code",
   "execution_count": 250,
   "metadata": {},
   "outputs": [],
   "source": [
    "x = extract_passing_table('Robert Griffin III')"
   ]
  },
  {
   "cell_type": "code",
   "execution_count": 308,
   "metadata": {},
   "outputs": [],
   "source": [
    "import requests\n",
    "from bs4 import BeautifulSoup\n",
    "import pandas as pd\n",
    "\n",
    "def fetch_html_content(player_url):\n",
    "    response = requests.get(player_url)\n",
    "    if response.status_code == 200:\n",
    "        return response.text\n",
    "    else:\n",
    "        print(\"Failed to retrieve the page\")\n",
    "        return None"
   ]
  },
  {
   "cell_type": "code",
   "execution_count": 231,
   "metadata": {},
   "outputs": [],
   "source": [
    "x"
   ]
  }
 ],
 "metadata": {
  "kernelspec": {
   "display_name": "Python 3 (ipykernel)",
   "language": "python",
   "name": "python3"
  },
  "language_info": {
   "codemirror_mode": {
    "name": "ipython",
    "version": 3
   },
   "file_extension": ".py",
   "mimetype": "text/x-python",
   "name": "python",
   "nbconvert_exporter": "python",
   "pygments_lexer": "ipython3",
   "version": "3.11.1"
  }
 },
 "nbformat": 4,
 "nbformat_minor": 2
}
